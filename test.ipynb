{
 "cells": [
  {
   "cell_type": "code",
   "execution_count": 18,
   "metadata": {},
   "outputs": [],
   "source": [
    "import torch\n",
    "import sobol_seq\n",
    "import numpy as np"
   ]
  },
  {
   "cell_type": "code",
   "execution_count": 7,
   "metadata": {},
   "outputs": [],
   "source": [
    "def param_init(bounds, n_multistart, batch_size=1):\n",
    "    num_dim = bounds.shape[0]  # Assuming bounds is of shape [num_dim, 2]\n",
    "    lb = bounds[:, 0].unsqueeze(0)  # Shape: [1, num_dim]\n",
    "    ub = bounds[:, 1].unsqueeze(0)  # Shape: [1, num_dim]\n",
    "    \n",
    "    # Initialize x_init tensor for all batches\n",
    "    x_init = torch.empty(batch_size, n_multistart, num_dim)\n",
    "    \n",
    "    # Generate Sobol sequences for each batch independently\n",
    "    for b in range(batch_size):\n",
    "        sobol_points = sobol_seq.i4_sobol_generate(num_dim, n_multistart)\n",
    "        scaled_points = lb + (ub - lb) * torch.tensor(sobol_points)\n",
    "        x_init[b] = scaled_points\n",
    "    return x_init"
   ]
  },
  {
   "cell_type": "code",
   "execution_count": 34,
   "metadata": {},
   "outputs": [],
   "source": [
    "def param_init2(bounds, n_multistart, batch_size=1):\n",
    "    bounds_ = np.array(bounds)\n",
    "    lb = bounds_[:,0]\n",
    "    ub = bounds_[:,1]\n",
    "    num_dim = bounds_.shape[0]\n",
    "    \n",
    "    # Initialize x_init tensor for all batches\n",
    "    x_init = np.zeros((batch_size, n_multistart, num_dim))\n",
    "    # Generate Sobol sequences for each batch independently\n",
    "    for b in range(batch_size):\n",
    "        sobol_points = sobol_seq.i4_sobol_generate(num_dim, n_multistart)\n",
    "        scaled_points = lb + (ub - lb) * sobol_points\n",
    "        x_init[b] = scaled_points\n",
    "    return x_init"
   ]
  },
  {
   "cell_type": "code",
   "execution_count": 46,
   "metadata": {},
   "outputs": [],
   "source": [
    "bounds1 = [[-1,-2], [-5,-6]]\n",
    "bounds2 = [[1,2], [5,6]]"
   ]
  },
  {
   "cell_type": "code",
   "execution_count": null,
   "metadata": {},
   "outputs": [],
   "source": []
  },
  {
   "cell_type": "code",
   "execution_count": 58,
   "metadata": {},
   "outputs": [
    {
     "name": "stdout",
     "output_type": "stream",
     "text": [
      "<class 'numpy.ndarray'>\n",
      "<class 'numpy.ndarray'>\n",
      "<class 'numpy.ndarray'>\n"
     ]
    }
   ],
   "source": [
    "batch_size = 3\n",
    "multi_size = 4\n",
    "tt1 = np.arange(batch_size*multi_size).reshape(batch_size,multi_size)\n",
    "tt2 = np.arange(batch_size).reshape(batch_size,1)\n",
    "\n",
    "for batch, (multi_init_action, state) in enumerate(zip(tt1,tt2)):\n",
    "    print(type(multi_init_action))\n"
   ]
  },
  {
   "cell_type": "code",
   "execution_count": 56,
   "metadata": {},
   "outputs": [
    {
     "ename": "ValueError",
     "evalue": "not enough values to unpack (expected 3, got 2)",
     "output_type": "error",
     "traceback": [
      "\u001b[0;31m---------------------------------------------------------------------------\u001b[0m",
      "\u001b[0;31mValueError\u001b[0m                                Traceback (most recent call last)",
      "Cell \u001b[0;32mIn[56], line 1\u001b[0m\n\u001b[0;32m----> 1\u001b[0m \u001b[39mfor\u001b[39;00m batch, multi_init_action, state \u001b[39min\u001b[39;00m \u001b[39menumerate\u001b[39m(\u001b[39mzip\u001b[39m(tt1,tt2)):\n\u001b[1;32m      2\u001b[0m     \u001b[39mprint\u001b[39m(batch, multi_init_action)\n",
      "\u001b[0;31mValueError\u001b[0m: not enough values to unpack (expected 3, got 2)"
     ]
    }
   ],
   "source": []
  },
  {
   "cell_type": "code",
   "execution_count": 59,
   "metadata": {},
   "outputs": [],
   "source": [
    "import random"
   ]
  },
  {
   "cell_type": "code",
   "execution_count": 60,
   "metadata": {},
   "outputs": [],
   "source": [
    "eps_greedy = True"
   ]
  },
  {
   "cell_type": "code",
   "execution_count": 69,
   "metadata": {},
   "outputs": [
    {
     "name": "stdout",
     "output_type": "stream",
     "text": [
      "yes\n"
     ]
    }
   ],
   "source": [
    "if eps_greedy and random.random() < 0.4:\n",
    "    print('yes')"
   ]
  },
  {
   "cell_type": "code",
   "execution_count": 1,
   "metadata": {},
   "outputs": [],
   "source": [
    "# Set epsilon parameters\n",
    "epsilon_start = 1.0\n",
    "epsilon_end = 0.01\n",
    "decay_rate = 1e-5\n",
    "\n",
    "# Compute epsilon based on current timestep\n",
    "def get_epsilon(timestep):\n",
    "    return max(epsilon_end, epsilon_start - decay_rate * timestep)\n"
   ]
  },
  {
   "cell_type": "code",
   "execution_count": 5,
   "metadata": {},
   "outputs": [
    {
     "data": {
      "text/plain": [
       "0.01"
      ]
     },
     "execution_count": 5,
     "metadata": {},
     "output_type": "execute_result"
    }
   ],
   "source": [
    "get_epsilon(100*1000)"
   ]
  },
  {
   "cell_type": "code",
   "execution_count": null,
   "metadata": {},
   "outputs": [],
   "source": []
  }
 ],
 "metadata": {
  "kernelspec": {
   "display_name": "venv3.11",
   "language": "python",
   "name": "python3"
  },
  "language_info": {
   "codemirror_mode": {
    "name": "ipython",
    "version": 3
   },
   "file_extension": ".py",
   "mimetype": "text/x-python",
   "name": "python",
   "nbconvert_exporter": "python",
   "pygments_lexer": "ipython3",
   "version": "3.11.4"
  },
  "orig_nbformat": 4,
  "vscode": {
   "interpreter": {
    "hash": "667fbbdba044ea2b840094a927cdd27981448469c83e9620600e2870e3e4d17e"
   }
  }
 },
 "nbformat": 4,
 "nbformat_minor": 2
}
